{
  "nbformat": 4,
  "nbformat_minor": 0,
  "metadata": {
    "colab": {
      "provenance": [],
      "authorship_tag": "ABX9TyP6LBQCpsz++h9zz76kPdvp"
    },
    "kernelspec": {
      "name": "python3",
      "display_name": "Python 3"
    },
    "language_info": {
      "name": "python"
    }
  },
  "cells": [
    {
      "cell_type": "markdown",
      "source": [
        "# Busca de Custo Uniforme\n"
      ],
      "metadata": {
        "id": "In5H5O9iOjhX"
      }
    },
    {
      "cell_type": "markdown",
      "source": [
        "## 📘 1. Introdução\n",
        "\n",
        "A Busca de Custo Uniforme é um algoritmo de busca não informada baseado na expansão do nó de menor custo acumulado.\n",
        "\n",
        "## 📌 Características:\n",
        "- Estratégia: expansão pelo menor custo $g(n)$\n",
        "- Estrutura de dados: fila de prioridade\n",
        "- Completa: Sim\n",
        "- Ótima: Sim (para custos positivos)\n",
        "- Complexidade de tempo: $O(b^{1 + C^*/ϵ})$\n",
        "- Complexidade de espaço: $O(b^{1 + C^*/ε})$"
      ],
      "metadata": {
        "id": "aYyweoLxR6Ab"
      }
    },
    {
      "cell_type": "markdown",
      "source": [
        "## 📘 2. Estrutura Básica do Problema"
      ],
      "metadata": {
        "id": "Upc4A4vSPFQN"
      }
    },
    {
      "cell_type": "markdown",
      "source": [
        "### Representação dos nós (estados)"
      ],
      "metadata": {
        "id": "OtgTmEM5Q_cy"
      }
    },
    {
      "cell_type": "code",
      "source": [
        "class Estado:\n",
        "    \"\"\"\n",
        "    Representa um estado no espaço de busca de um problema.\n",
        "\n",
        "    A estrutura é genérica, podendo ser utilizada em problemas como o quebra-cabeça de 8 peças,\n",
        "    labirintos, jogos e outros domínios que envolvem transições de estado.\n",
        "\n",
        "    A representação do estado é feita por meio de um vetor unidimensional.\n",
        "    \"\"\"\n",
        "\n",
        "    def __init__(self, vetor=None, custo=0, acao=None, pai=None):\n",
        "        \"\"\"\n",
        "        Inicializa um novo estado.\n",
        "\n",
        "        Args:\n",
        "            vetor (list[int], opcional): representação linear do estado (ex: 9 elementos do 8-puzzle).\n",
        "            custo (int): custo acumulado para atingir este estado a partir do estado inicial.\n",
        "            acao (str): ação que resultou neste estado a partir do estado pai (ex: 'cima', 'direita').\n",
        "            pai (Estado): referência ao estado anterior (para reconstrução do caminho da solução).\n",
        "        \"\"\"\n",
        "        if vetor is None:\n",
        "            vetor = []\n",
        "        self.vetor = vetor\n",
        "        self.custo = custo\n",
        "        self.acao = acao\n",
        "        self.pai = pai\n",
        "\n",
        "    def __getitem__(self, i):\n",
        "        \"\"\"\n",
        "        Permite o acesso direto aos elementos do vetor via indexação.\n",
        "\n",
        "        Args:\n",
        "            i (int): índice do elemento a ser acessado.\n",
        "\n",
        "        Returns:\n",
        "            int: valor na posição i do vetor.\n",
        "        \"\"\"\n",
        "        return self.vetor[i]\n",
        "\n",
        "    def __eq__(self, outro):\n",
        "        \"\"\"\n",
        "        Define igualdade entre dois estados com base em seus vetores.\n",
        "\n",
        "        Args:\n",
        "            outro (Estado): estado a ser comparado.\n",
        "\n",
        "        Returns:\n",
        "            bool: True se os vetores forem iguais, False caso contrário.\n",
        "        \"\"\"\n",
        "        if not isinstance(outro, Estado):\n",
        "            return False\n",
        "        return self.vetor == outro.vetor\n",
        "\n",
        "    def __hash__(self):\n",
        "        \"\"\"\n",
        "        Permite o uso de instâncias de Estado como chaves de dicionário ou em conjuntos.\n",
        "\n",
        "        Returns:\n",
        "            int: valor hash derivado do vetor (convertido em tupla).\n",
        "        \"\"\"\n",
        "        return hash(tuple(self.vetor))\n",
        "\n",
        "    def __repr__(self):\n",
        "        \"\"\"\n",
        "        Retorna uma representação legível do vetor do estado, útil para debug.\n",
        "\n",
        "        Returns:\n",
        "            str: representação textual do vetor do estado.\n",
        "        \"\"\"\n",
        "        return str(self.vetor)\n",
        "\n",
        "    def __lt__(self, outro):\n",
        "        \"\"\"\n",
        "        Compara este estado com outro estado com base no custo acumulado g(n).\n",
        "\n",
        "        Esse método é necessário para utilizar objetos da classe Estado\n",
        "        em filas de prioridade (como o heapq), que requerem ordenação.\n",
        "\n",
        "        Args:\n",
        "            outro (Estado): Outro estado a ser comparado com este.\n",
        "\n",
        "        Returns:\n",
        "            bool: True se o custo deste estado for menor que o custo do outro.\n",
        "        \"\"\"\n",
        "        return self.custo < outro.custo"
      ],
      "metadata": {
        "id": "_g8cIZAFQCKZ"
      },
      "execution_count": 1,
      "outputs": []
    },
    {
      "cell_type": "markdown",
      "source": [
        "### Representação do Problema"
      ],
      "metadata": {
        "id": "q9Rmvx8GRTzZ"
      }
    },
    {
      "cell_type": "code",
      "execution_count": 2,
      "metadata": {
        "id": "NJ2T7_VINS3b"
      },
      "outputs": [],
      "source": [
        "class Problema:\n",
        "    \"\"\"\n",
        "    Classe base para a modelagem de problemas de busca no espaço de estados.\n",
        "\n",
        "    Esta classe define a interface e estrutura mínima que deve ser seguida por qualquer\n",
        "    problema a ser resolvido com algoritmos de busca, como Busca em Largura, A*, entre outros.\n",
        "    \"\"\"\n",
        "\n",
        "    def __init__(self):\n",
        "        \"\"\"\n",
        "        Inicializa o problema com estado inicial nulo.\n",
        "        Subclasses devem sobrescrever essa inicialização.\n",
        "        \"\"\"\n",
        "        self._estado_inicial = None\n",
        "\n",
        "    @property\n",
        "    def estado_inicial(self):\n",
        "        \"\"\"\n",
        "        Retorna o estado inicial do problema.\n",
        "\n",
        "        Returns:\n",
        "            Estado: o estado de partida.\n",
        "        \"\"\"\n",
        "        if self._estado_inicial is None:\n",
        "            raise NotImplementedError(\"O estado inicial não foi definido.\")\n",
        "        return self._estado_inicial\n",
        "\n",
        "    def estado_objetivo(self, estado):\n",
        "        \"\"\"\n",
        "        Verifica se o estado fornecido atende à condição de objetivo.\n",
        "\n",
        "        Args:\n",
        "            estado (Estado): estado a ser testado.\n",
        "\n",
        "        Returns:\n",
        "            bool: True se é um estado objetivo, False caso contrário.\n",
        "        \"\"\"\n",
        "        raise NotImplementedError(\"Método 'estado_objetivo' deve ser implementado na subclasse.\")\n",
        "\n",
        "    def solucao(self, estado):\n",
        "        \"\"\"\n",
        "        Reconstrói o caminho do estado inicial até o estado objetivo, percorrendo os pais.\n",
        "\n",
        "        Args:\n",
        "            estado (Estado): estado objetivo atingido.\n",
        "\n",
        "        Returns:\n",
        "            list[Estado]: sequência de estados do caminho da solução.\n",
        "        \"\"\"\n",
        "        resultado = []\n",
        "        ptr = estado\n",
        "        while ptr:\n",
        "            resultado.append(ptr)\n",
        "            ptr = ptr.pai\n",
        "        return list(reversed(resultado))\n",
        "\n",
        "    def funcao_sucessora(self, estado):\n",
        "        \"\"\"\n",
        "        Retorna a lista de estados sucessores (vizinhos) do estado atual,\n",
        "        aplicando todas as ações válidas possíveis.\n",
        "\n",
        "        Args:\n",
        "            estado (Estado): estado atual.\n",
        "\n",
        "        Returns:\n",
        "            list[Estado]: estados sucessores gerados.\n",
        "        \"\"\"\n",
        "        raise NotImplementedError(\"Método 'funcao_sucessora' deve ser implementado na subclasse.\")\n"
      ]
    },
    {
      "cell_type": "markdown",
      "source": [
        "## 📘 3. Implementação da Busca de Custo Uniforme"
      ],
      "metadata": {
        "id": "3RQtN92IRoyH"
      }
    },
    {
      "cell_type": "code",
      "source": [
        "import heapq\n",
        "\n",
        "def busca_custo_uniforme(problema: Problema):\n",
        "    \"\"\"\n",
        "    Executa o algoritmo de Busca de Custo Uniforme (Uniform Cost Search - UCS)\n",
        "    para resolver um problema de busca no espaço de estados.\n",
        "\n",
        "    Esta estratégia expande sempre o estado de menor custo acumulado g(n).\n",
        "\n",
        "    Args:\n",
        "        problema (Problema): Instância de um problema com métodos:\n",
        "            - estado_inicial (Estado)\n",
        "            - estado_objetivo(estado)\n",
        "            - funcao_sucessora(estado)\n",
        "\n",
        "    Returns:\n",
        "        list[Estado]: Lista de estados que compõem o caminho da solução,\n",
        "                      do estado inicial ao objetivo.\n",
        "\n",
        "    Raises:\n",
        "        RuntimeError: Se a fila de prioridade esvaziar sem encontrar uma solução.\n",
        "    \"\"\"\n",
        "\n",
        "    # 1. Inicializa a fila de prioridade com o estado inicial\n",
        "    borda = []\n",
        "    heapq.heappush(borda, problema.estado_inicial)\n",
        "\n",
        "    # 2. Inicializa o conjunto de estados já visitados\n",
        "    memoria = set()\n",
        "    memoria.add(tuple(problema.estado_inicial.vetor))\n",
        "\n",
        "    # 3. Loop principal da busca\n",
        "    while borda:\n",
        "\n",
        "        # 4. Remove o estado de menor custo acumulado (g(n))\n",
        "        estado = heapq.heappop(borda)\n",
        "\n",
        "        # 5. Verifica se o estado atual é o objetivo\n",
        "        if problema.estado_objetivo(estado):\n",
        "            return problema.solucao(estado)\n",
        "\n",
        "        # 6. Gera os estados sucessores\n",
        "        vizinhos = problema.funcao_sucessora(estado)\n",
        "\n",
        "        # 7. Adiciona vizinhos não visitados à fila de prioridade\n",
        "        for vizinho in vizinhos:\n",
        "            chave = tuple(vizinho.vetor)\n",
        "            if chave not in memoria:\n",
        "                heapq.heappush(borda, vizinho)\n",
        "                memoria.add(chave)\n",
        "\n",
        "    # 8. Nenhuma solução encontrada\n",
        "    raise RuntimeError(\"Falha ao encontrar solução.\")\n"
      ],
      "metadata": {
        "id": "iH6GKjOFSV-T"
      },
      "execution_count": 3,
      "outputs": []
    },
    {
      "cell_type": "markdown",
      "source": [
        "## 📘 4. Exemplo - Problema do Robô em terreno"
      ],
      "metadata": {
        "id": "Zxfav9I9S_WP"
      }
    },
    {
      "cell_type": "code",
      "source": [
        "class ProblemaRoboEmTerreno(Problema):\n",
        "    \"\"\"\n",
        "    Problema de um robô que se movimenta em um grid 2D com custos variáveis de entrada.\n",
        "\n",
        "    O objetivo é encontrar o caminho de menor custo do ponto de partida até o destino.\n",
        "    \"\"\"\n",
        "\n",
        "    def __init__(self, terreno, inicio, destino):\n",
        "        \"\"\"\n",
        "        Inicializa o problema.\n",
        "\n",
        "        Args:\n",
        "            terreno (list[list[int]]): Matriz com os custos de entrada em cada célula.\n",
        "            inicio (tuple[int, int]): Coordenadas (linha, coluna) da posição inicial.\n",
        "            destino (tuple[int, int]): Coordenadas (linha, coluna) da posição destino.\n",
        "        \"\"\"\n",
        "        self.terreno = terreno\n",
        "        self.inicio = inicio\n",
        "        self.destino = destino\n",
        "        self.linhas = len(terreno)\n",
        "        self.colunas = len(terreno[0])\n",
        "        self._estado_inicial = Estado(vetor=inicio, custo=0)\n",
        "\n",
        "    @property\n",
        "    def estado_inicial(self):\n",
        "        \"\"\"Retorna o estado inicial do problema.\"\"\"\n",
        "        return self._estado_inicial\n",
        "\n",
        "    def estado_objetivo(self, estado):\n",
        "        \"\"\"\n",
        "        Verifica se o estado atual é o destino.\n",
        "\n",
        "        Args:\n",
        "            estado (Estado): Estado atual.\n",
        "\n",
        "        Returns:\n",
        "            bool: True se é o destino, False caso contrário.\n",
        "        \"\"\"\n",
        "        return estado.vetor == self.destino\n",
        "\n",
        "    def funcao_sucessora(self, estado):\n",
        "        \"\"\"\n",
        "        Gera os estados vizinhos acessíveis a partir da posição atual.\n",
        "\n",
        "        Args:\n",
        "            estado (Estado): Estado atual com coordenadas (linha, coluna).\n",
        "\n",
        "        Returns:\n",
        "            list[Estado]: Lista de estados sucessores com custo acumulado atualizado.\n",
        "        \"\"\"\n",
        "        sucessores = []\n",
        "        i, j = estado.vetor\n",
        "\n",
        "        movimentos = {\n",
        "            'cima': (-1, 0),\n",
        "            'baixo': (1, 0),\n",
        "            'esquerda': (0, -1),\n",
        "            'direita': (0, 1)\n",
        "        }\n",
        "\n",
        "        for acao, (di, dj) in movimentos.items():\n",
        "            ni, nj = i + di, j + dj\n",
        "\n",
        "            if 0 <= ni < self.linhas and 0 <= nj < self.colunas:\n",
        "                custo_movimento = self.terreno[ni][nj]\n",
        "                novo_estado = Estado(\n",
        "                    vetor=(ni, nj),\n",
        "                    custo=estado.custo + custo_movimento,\n",
        "                    acao=acao,\n",
        "                    pai=estado\n",
        "                )\n",
        "                sucessores.append(novo_estado)\n",
        "\n",
        "        return sucessores\n"
      ],
      "metadata": {
        "id": "ASfyRfCqVgAj"
      },
      "execution_count": 4,
      "outputs": []
    },
    {
      "cell_type": "code",
      "source": [
        "# Definição do Problema\n",
        "terreno = [\n",
        "    [1, 1, 2, 3, 9, 4, 1],\n",
        "    [2, 5, 3, 2, 1, 1, 1],\n",
        "    [3, 9, 1, 9, 2, 8, 1],\n",
        "    [1, 1, 1, 1, 3, 3, 2],\n",
        "    [9, 9, 2, 9, 4, 9, 1],\n",
        "    [2, 1, 1, 2, 1, 1, 2],\n",
        "    [1, 3, 9, 1, 1, 5, 1]\n",
        "]\n",
        "\n",
        "inicio = (0, 0)      # canto superior esquerdo\n",
        "destino = (6, 6)     # canto inferior direito\n",
        "\n",
        "# Execução do problema\n",
        "problema = ProblemaRoboEmTerreno(terreno, inicio, destino)\n",
        "caminho = busca_custo_uniforme(problema)\n",
        "\n",
        "# Impressão simples dos estados no caminho\n",
        "for estado in caminho:\n",
        "    print(f\"{estado.vetor} ← {estado.acao} (custo acumulado: {estado.custo})\")"
      ],
      "metadata": {
        "colab": {
          "base_uri": "https://localhost:8080/"
        },
        "id": "40G_WjodVujR",
        "outputId": "d97986e4-f2aa-4d5e-934d-c6c70a247204"
      },
      "execution_count": 5,
      "outputs": [
        {
          "output_type": "stream",
          "name": "stdout",
          "text": [
            "(0, 0) ← None (custo acumulado: 0)\n",
            "(0, 1) ← direita (custo acumulado: 1)\n",
            "(0, 2) ← direita (custo acumulado: 3)\n",
            "(1, 2) ← baixo (custo acumulado: 6)\n",
            "(2, 2) ← baixo (custo acumulado: 7)\n",
            "(3, 2) ← baixo (custo acumulado: 8)\n",
            "(4, 2) ← baixo (custo acumulado: 10)\n",
            "(5, 2) ← baixo (custo acumulado: 11)\n",
            "(5, 3) ← direita (custo acumulado: 13)\n",
            "(5, 4) ← direita (custo acumulado: 14)\n",
            "(5, 5) ← direita (custo acumulado: 15)\n",
            "(5, 6) ← direita (custo acumulado: 17)\n",
            "(6, 6) ← baixo (custo acumulado: 18)\n"
          ]
        }
      ]
    },
    {
      "cell_type": "markdown",
      "source": [
        "## 📘 5. Exemplo Visual"
      ],
      "metadata": {
        "id": "5EpbO6zpWPz8"
      }
    },
    {
      "cell_type": "code",
      "source": [
        "!pip install graphviz"
      ],
      "metadata": {
        "colab": {
          "base_uri": "https://localhost:8080/"
        },
        "id": "6TnXZwSuWbmG",
        "outputId": "2b860332-7a4b-406d-f48f-37459ef8a5e6"
      },
      "execution_count": 6,
      "outputs": [
        {
          "output_type": "stream",
          "name": "stdout",
          "text": [
            "Requirement already satisfied: graphviz in /usr/local/lib/python3.11/dist-packages (0.20.3)\n"
          ]
        }
      ]
    },
    {
      "cell_type": "code",
      "source": [
        "from graphviz import Digraph\n",
        "from IPython.display import display\n",
        "import heapq\n",
        "import time\n",
        "\n",
        "def busca_custo_uniforme_visual(problema: Problema, atraso=1.0):\n",
        "    \"\"\"\n",
        "    Executa a Busca de Custo Uniforme com visualização gráfica da árvore de busca.\n",
        "    \"\"\"\n",
        "    borda = []\n",
        "    heapq.heappush(borda, problema.estado_inicial)\n",
        "    memoria = set()\n",
        "    memoria.add(tuple(problema.estado_inicial.vetor))\n",
        "\n",
        "    grafo = Digraph(format='png')\n",
        "    grafo.attr('graph', rankdir='TB')\n",
        "    grafo.attr('node', shape='box', style='filled,rounded', fontname='monospace',\n",
        "               fontsize='10', width='0.4', height='0.4', margin='0.05')\n",
        "    grafo.attr('edge', fontname='monospace', fontsize='10')\n",
        "\n",
        "    id_nos = {}\n",
        "    contador_id = 0\n",
        "\n",
        "    def estado_id(estado):\n",
        "        nonlocal contador_id\n",
        "        chave = tuple(estado.vetor)\n",
        "        if chave not in id_nos:\n",
        "            id_nos[chave] = f\"n{contador_id}\"\n",
        "            contador_id += 1\n",
        "        return id_nos[chave]\n",
        "\n",
        "    def formatar_legenda(estado):\n",
        "        return f\"{estado.vetor}\\n g={estado.custo}\"\n",
        "\n",
        "    while borda:\n",
        "        estado = heapq.heappop(borda)\n",
        "        id_estado = estado_id(estado)\n",
        "\n",
        "        grafo.node(id_estado, formatar_legenda(estado), fillcolor='gold')\n",
        "        display(grafo)\n",
        "        time.sleep(atraso)\n",
        "\n",
        "        if problema.estado_objetivo(estado):\n",
        "            return problema.solucao(estado)\n",
        "\n",
        "        for vizinho in problema.funcao_sucessora(estado):\n",
        "            chave = tuple(vizinho.vetor)\n",
        "            id_pai = estado_id(estado)\n",
        "            id_filho = estado_id(vizinho)\n",
        "\n",
        "            if chave not in memoria:\n",
        "                heapq.heappush(borda, vizinho)\n",
        "                memoria.add(chave)\n",
        "\n",
        "                grafo.node(id_filho, formatar_legenda(vizinho), fillcolor='palegreen')\n",
        "                grafo.edge(id_pai, id_filho, label=f\"{vizinho.acao}, g={vizinho.custo}\")\n",
        "\n",
        "        grafo.node(id_estado, formatar_legenda(estado), fillcolor='dimgray')\n",
        "\n",
        "    raise RuntimeError(\"Falha ao encontrar solução.\")\n"
      ],
      "metadata": {
        "id": "LBhST7pFWgbO"
      },
      "execution_count": 7,
      "outputs": []
    },
    {
      "cell_type": "code",
      "source": [
        "# Descomente o código abaixo para visualizar a execução do algoritmo\n",
        "\n",
        "#problema = ProblemaRoboEmTerreno(terreno, inicio, destino)\n",
        "#caminho = busca_custo_uniforme_visual(problema, atraso=0.5)"
      ],
      "metadata": {
        "id": "SsQIohBNWj6X"
      },
      "execution_count": 8,
      "outputs": []
    }
  ]
}