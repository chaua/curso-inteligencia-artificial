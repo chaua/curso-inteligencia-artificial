{
  "nbformat": 4,
  "nbformat_minor": 0,
  "metadata": {
    "colab": {
      "provenance": [],
      "authorship_tag": "ABX9TyN55T5pRIYKClbz9xIOeZXg"
    },
    "kernelspec": {
      "name": "python3",
      "display_name": "Python 3"
    },
    "language_info": {
      "name": "python"
    }
  },
  "cells": [
    {
      "cell_type": "markdown",
      "source": [
        "# Busca em profundidade"
      ],
      "metadata": {
        "id": "B6C8x089bBOE"
      }
    },
    {
      "cell_type": "markdown",
      "source": [
        "## 📘 1. Introdução\n",
        "\n",
        "A Busca em Profundidade é uma estratégia de busca não informada que explora cada ramo da árvore de busca o mais profundamente possível antes de retroceder.\n",
        "\n",
        "## 📌 Características:\n",
        "\n",
        "- Estratégia: **LIFO** (último a entrar, primeiro a sair)\n",
        "- Estrutura de dados: **pilha**\n",
        "- Completa: Não (em espaços infinitos)\n",
        "- Ótima: Não\n",
        "- Complexidade de tempo: $O(b^m)$, onde $b$ é o fator de ramificação e $m$ é a profundidade máxima\n",
        "- Complexidade de espaço: $O(bm)$"
      ],
      "metadata": {
        "id": "8x3UwzqObG3z"
      }
    },
    {
      "cell_type": "markdown",
      "source": [
        "## 📘 2. Estrutura Básica do Problema"
      ],
      "metadata": {
        "id": "Mkt3OZuebbQi"
      }
    },
    {
      "cell_type": "markdown",
      "source": [
        "### Representação dos nós (estados)"
      ],
      "metadata": {
        "id": "46Bbg7X4buRI"
      }
    },
    {
      "cell_type": "code",
      "source": [
        "class Estado:\n",
        "    \"\"\"\n",
        "    Representa um estado no espaço de busca de um problema.\n",
        "\n",
        "    A estrutura é genérica, podendo ser utilizada em problemas como o quebra-cabeça de 8 peças,\n",
        "    labirintos, jogos e outros domínios que envolvem transições de estado.\n",
        "\n",
        "    A representação do estado é feita por meio de um vetor unidimensional.\n",
        "    \"\"\"\n",
        "\n",
        "    def __init__(self, vetor=None, custo=0, acao=None, pai=None):\n",
        "        \"\"\"\n",
        "        Inicializa um novo estado.\n",
        "\n",
        "        Args:\n",
        "            vetor (list[int], opcional): representação linear do estado (ex: 9 elementos do 8-puzzle).\n",
        "            custo (int): custo acumulado para atingir este estado a partir do estado inicial.\n",
        "            acao (str): ação que resultou neste estado a partir do estado pai (ex: 'cima', 'direita').\n",
        "            pai (Estado): referência ao estado anterior (para reconstrução do caminho da solução).\n",
        "        \"\"\"\n",
        "        if vetor is None:\n",
        "            vetor = []\n",
        "        self.vetor = vetor\n",
        "        self.custo = custo\n",
        "        self.acao = acao\n",
        "        self.pai = pai\n",
        "\n",
        "    def __getitem__(self, i):\n",
        "        \"\"\"\n",
        "        Permite o acesso direto aos elementos do vetor via indexação.\n",
        "\n",
        "        Args:\n",
        "            i (int): índice do elemento a ser acessado.\n",
        "\n",
        "        Returns:\n",
        "            int: valor na posição i do vetor.\n",
        "        \"\"\"\n",
        "        return self.vetor[i]\n",
        "\n",
        "    def __eq__(self, outro):\n",
        "        \"\"\"\n",
        "        Define igualdade entre dois estados com base em seus vetores.\n",
        "\n",
        "        Args:\n",
        "            outro (Estado): estado a ser comparado.\n",
        "\n",
        "        Returns:\n",
        "            bool: True se os vetores forem iguais, False caso contrário.\n",
        "        \"\"\"\n",
        "        if not isinstance(outro, Estado):\n",
        "            return False\n",
        "        return self.vetor == outro.vetor\n",
        "\n",
        "    def __hash__(self):\n",
        "        \"\"\"\n",
        "        Permite o uso de instâncias de Estado como chaves de dicionário ou em conjuntos.\n",
        "\n",
        "        Returns:\n",
        "            int: valor hash derivado do vetor (convertido em tupla).\n",
        "        \"\"\"\n",
        "        return hash(tuple(self.vetor))\n",
        "\n",
        "    def __repr__(self):\n",
        "        \"\"\"\n",
        "        Retorna uma representação legível do vetor do estado, útil para debug.\n",
        "\n",
        "        Returns:\n",
        "            str: representação textual do vetor do estado.\n",
        "        \"\"\"\n",
        "        return str(self.vetor)\n"
      ],
      "metadata": {
        "id": "rjQVtrsjbfmJ"
      },
      "execution_count": 1,
      "outputs": []
    },
    {
      "cell_type": "markdown",
      "source": [
        "### Representação do Problema"
      ],
      "metadata": {
        "id": "L1nXpae-b3cv"
      }
    },
    {
      "cell_type": "code",
      "execution_count": 2,
      "metadata": {
        "id": "fg79LveRa50E"
      },
      "outputs": [],
      "source": [
        "class Problema:\n",
        "    \"\"\"\n",
        "    Classe base para a modelagem de problemas de busca no espaço de estados.\n",
        "\n",
        "    Esta classe define a interface e estrutura mínima que deve ser seguida por qualquer\n",
        "    problema a ser resolvido com algoritmos de busca, como Busca em Largura, A*, entre outros.\n",
        "    \"\"\"\n",
        "\n",
        "    def __init__(self):\n",
        "        \"\"\"\n",
        "        Inicializa o problema com estado inicial nulo.\n",
        "        Subclasses devem sobrescrever essa inicialização.\n",
        "        \"\"\"\n",
        "        self._estado_inicial = None\n",
        "\n",
        "    @property\n",
        "    def estado_inicial(self):\n",
        "        \"\"\"\n",
        "        Retorna o estado inicial do problema.\n",
        "\n",
        "        Returns:\n",
        "            Estado: o estado de partida.\n",
        "        \"\"\"\n",
        "        if self._estado_inicial is None:\n",
        "            raise NotImplementedError(\"O estado inicial não foi definido.\")\n",
        "        return self._estado_inicial\n",
        "\n",
        "    def estado_objetivo(self, estado):\n",
        "        \"\"\"\n",
        "        Verifica se o estado fornecido atende à condição de objetivo.\n",
        "\n",
        "        Args:\n",
        "            estado (Estado): estado a ser testado.\n",
        "\n",
        "        Returns:\n",
        "            bool: True se é um estado objetivo, False caso contrário.\n",
        "        \"\"\"\n",
        "        raise NotImplementedError(\"Método 'estado_objetivo' deve ser implementado na subclasse.\")\n",
        "\n",
        "    def solucao(self, estado):\n",
        "        \"\"\"\n",
        "        Reconstrói o caminho do estado inicial até o estado objetivo, percorrendo os pais.\n",
        "\n",
        "        Args:\n",
        "            estado (Estado): estado objetivo atingido.\n",
        "\n",
        "        Returns:\n",
        "            list[Estado]: sequência de estados do caminho da solução.\n",
        "        \"\"\"\n",
        "        resultado = []\n",
        "        ptr = estado\n",
        "        while ptr:\n",
        "            resultado.append(ptr)\n",
        "            ptr = ptr.pai\n",
        "        return list(reversed(resultado))\n",
        "\n",
        "    def funcao_sucessora(self, estado):\n",
        "        \"\"\"\n",
        "        Retorna a lista de estados sucessores (vizinhos) do estado atual,\n",
        "        aplicando todas as ações válidas possíveis.\n",
        "\n",
        "        Args:\n",
        "            estado (Estado): estado atual.\n",
        "\n",
        "        Returns:\n",
        "            list[Estado]: estados sucessores gerados.\n",
        "        \"\"\"\n",
        "        raise NotImplementedError(\"Método 'funcao_sucessora' deve ser implementado na subclasse.\")\n"
      ]
    },
    {
      "cell_type": "markdown",
      "source": [
        "## 📘 3. Implementação da Busca em Profundidade"
      ],
      "metadata": {
        "id": "pVNbEZ1Xb_f3"
      }
    },
    {
      "cell_type": "code",
      "source": [
        "def busca_profundidade(problema: Problema):\n",
        "    \"\"\"\n",
        "    Executa o algoritmo de Busca em Profundidade (Depth-First Search - DFS)\n",
        "    para resolver um problema de busca no espaço de estados.\n",
        "\n",
        "    Args:\n",
        "        problema (Problema): Instância que define o problema com os métodos\n",
        "                             estado_inicial, estado_objetivo e funcao_sucessora.\n",
        "\n",
        "    Returns:\n",
        "        list[Estado]: Caminho da solução, do estado inicial ao objetivo.\n",
        "\n",
        "    Raises:\n",
        "        RuntimeError: Se a borda for esvaziada sem encontrar uma solução.\n",
        "    \"\"\"\n",
        "\n",
        "    # 1. Inicializa a borda com o estado inicial\n",
        "    borda = [problema.estado_inicial]  # pilha LIFO\n",
        "\n",
        "    # 2. Inicializa a memória com o estado inicial visitado\n",
        "    memoria = [problema.estado_inicial]\n",
        "\n",
        "    # 3. Loop principal da busca\n",
        "    while borda:\n",
        "\n",
        "        # 4. Remove o último estado da borda (topo da pilha)\n",
        "        estado = borda.pop()\n",
        "\n",
        "        # 5. Verifica se é o estado objetivo\n",
        "        if problema.estado_objetivo(estado):\n",
        "            return problema.solucao(estado)\n",
        "\n",
        "        # 6. Gera sucessores do estado atual\n",
        "        vizinhos = problema.funcao_sucessora(estado)\n",
        "\n",
        "        # 7. Adiciona novos estados ao topo da pilha e à memória\n",
        "        for vizinho in vizinhos:\n",
        "            if vizinho not in memoria:\n",
        "                borda.append(vizinho)\n",
        "                memoria.append(vizinho)\n",
        "\n",
        "    # 8. Se a borda esvaziar, a solução não foi encontrada\n",
        "    raise RuntimeError(\"Falha ao encontrar solução.\")\n"
      ],
      "metadata": {
        "id": "HM_FtGbccUow"
      },
      "execution_count": 3,
      "outputs": []
    },
    {
      "cell_type": "markdown",
      "source": [
        "## 📘 4. Exemplo - Problema das $n$ rainhas"
      ],
      "metadata": {
        "id": "7LZwWJ2ScawI"
      }
    },
    {
      "cell_type": "code",
      "source": [
        "from copy import deepcopy\n",
        "\n",
        "class ProblemaNRainhas(Problema):\n",
        "    \"\"\"\n",
        "    Problema das n rainhas representado como vetor de posições (linha por coluna).\n",
        "    \"\"\"\n",
        "\n",
        "    def __init__(self, estado_inicial=None):\n",
        "        \"\"\"\n",
        "        Inicializa o problema com um vetor de posições das rainhas.\n",
        "\n",
        "        Args:\n",
        "            estado_inicial (list[int], optional): Estado inicial (posição das rainhas nas colunas).\n",
        "                                                  Se None, usa uma configuração padrão.\n",
        "        \"\"\"\n",
        "        if estado_inicial is None:\n",
        "            estado_inicial = [0, 1, 2, 3, 4, 5, 6, 7]  # inicialização ingênua (linha = coluna)\n",
        "        self._estado_inicial = Estado(vetor=estado_inicial, custo=0)\n",
        "\n",
        "    @property\n",
        "    def estado_inicial(self):\n",
        "        return self._estado_inicial\n",
        "\n",
        "    def estado_objetivo(self, estado):\n",
        "        \"\"\"\n",
        "        Verifica se o estado atual não possui conflitos entre rainhas.\n",
        "\n",
        "        Args:\n",
        "            estado (Estado): Estado atual.\n",
        "\n",
        "        Returns:\n",
        "            bool: True se não há conflitos entre rainhas.\n",
        "        \"\"\"\n",
        "        return self._conflitos(estado.vetor) == 0\n",
        "\n",
        "    def funcao_sucessora(self, estado):\n",
        "        \"\"\"\n",
        "        Gera todos os vizinhos mudando uma rainha de linha em uma coluna.\n",
        "\n",
        "        Args:\n",
        "            estado (Estado): Estado atual.\n",
        "\n",
        "        Returns:\n",
        "            list[Estado]: Estados vizinhos com apenas um movimento por vez.\n",
        "        \"\"\"\n",
        "        sucessores = []\n",
        "        n = len(estado.vetor)\n",
        "\n",
        "        for col in range(n):\n",
        "            for nova_linha in range(n):\n",
        "                if nova_linha != estado.vetor[col]:\n",
        "                    novo_vetor = deepcopy(estado.vetor)\n",
        "                    novo_vetor[col] = nova_linha\n",
        "                    sucessores.append(\n",
        "                        Estado(vetor=novo_vetor,\n",
        "                               custo=estado.custo + 1,\n",
        "                               acao=f\"coluna {col} -> linha {nova_linha}\",\n",
        "                               pai=estado)\n",
        "                    )\n",
        "\n",
        "        return sucessores\n",
        "\n",
        "    def _conflitos(self, vetor):\n",
        "        \"\"\"\n",
        "        Conta o número total de pares de rainhas em conflito.\n",
        "\n",
        "        Args:\n",
        "            vetor (list[int]): vetor com a linha de cada rainha por coluna.\n",
        "\n",
        "        Returns:\n",
        "            int: número de pares de rainhas em conflito.\n",
        "        \"\"\"\n",
        "        conflitos = 0\n",
        "        n = len(vetor)\n",
        "        for i in range(n):\n",
        "            for j in range(i + 1, n):\n",
        "                if vetor[i] == vetor[j]:  # mesma linha\n",
        "                    conflitos += 1\n",
        "                elif abs(vetor[i] - vetor[j]) == abs(i - j):  # mesma diagonal\n",
        "                    conflitos += 1\n",
        "        return conflitos\n"
      ],
      "metadata": {
        "id": "BVq9fseCccfo"
      },
      "execution_count": 4,
      "outputs": []
    },
    {
      "cell_type": "code",
      "source": [
        "# Execução do problema\n",
        "n = 5\n",
        "\n",
        "problema = ProblemaNRainhas(estado_inicial=[i for i in range(n)])\n",
        "caminho = busca_profundidade(problema)\n",
        "\n",
        "# Neste problema o estado final que interessa\n",
        "estado_final = caminho[-1]\n",
        "\n",
        "# Impressão simples dos estados no caminho\n",
        "for linha in range(n):\n",
        "    linha_str = ''\n",
        "    for coluna in range(n):\n",
        "        if caminho[-1][coluna] == linha:\n",
        "            linha_str += f\"♕ \"\n",
        "        else:\n",
        "            linha_str += f\". \"\n",
        "    print(linha_str)\n",
        "print()"
      ],
      "metadata": {
        "id": "_GsVAWVTcg5J",
        "colab": {
          "base_uri": "https://localhost:8080/"
        },
        "outputId": "0ddb7547-6830-4a18-8799-417b4891343d"
      },
      "execution_count": 5,
      "outputs": [
        {
          "output_type": "stream",
          "name": "stdout",
          "text": [
            ". . . . ♕ \n",
            ". . ♕ . . \n",
            "♕ . . . . \n",
            ". . . ♕ . \n",
            ". ♕ . . . \n",
            "\n"
          ]
        }
      ]
    },
    {
      "cell_type": "markdown",
      "source": [
        "## 📘 5. Exemplo Visual"
      ],
      "metadata": {
        "id": "4JSqAZdrcuWI"
      }
    },
    {
      "cell_type": "code",
      "source": [
        "from graphviz import Digraph\n",
        "from IPython.display import display\n",
        "import time\n",
        "\n",
        "def busca_profundidade_visual(problema: Problema, atraso=1.0):\n",
        "    \"\"\"\n",
        "    Executa busca em profundidade (DFS) com visualização gráfica da árvore.\n",
        "    \"\"\"\n",
        "    borda = [problema.estado_inicial]\n",
        "    memoria = [problema.estado_inicial]\n",
        "\n",
        "    grafo = Digraph(format='png')\n",
        "    grafo.attr('graph', rankdir='TB')\n",
        "    grafo.attr('node',\n",
        "               shape='box',\n",
        "               style='filled,rounded',\n",
        "               fontname='monospace',\n",
        "               fontsize='9',\n",
        "               width='0.6',\n",
        "               height='0.6',\n",
        "               margin='0.1')\n",
        "\n",
        "    grafo.attr('edge', fontname='monospace', fontsize='10')\n",
        "\n",
        "    id_nos = {}\n",
        "    contador_id = 0\n",
        "\n",
        "    def estado_id(estado):\n",
        "        nonlocal contador_id\n",
        "        chave = tuple(estado.vetor)\n",
        "        if chave not in id_nos:\n",
        "            id_nos[chave] = f\"n{contador_id}\"\n",
        "            contador_id += 1\n",
        "        return id_nos[chave]\n",
        "\n",
        "    def formatar_tabuleiro(vetor):\n",
        "        \"\"\"Formata vetor de rainhas como string de tabuleiro 8x8.\"\"\"\n",
        "        simbolo_rainha = '♕'\n",
        "        simbolo_vazio = '·'\n",
        "        linhas = []\n",
        "        for linha in range(4):\n",
        "            linha_str = ''\n",
        "            for coluna in range(4):\n",
        "                if coluna < len(vetor) and vetor[coluna] == linha:\n",
        "                    linha_str += simbolo_rainha + ' '\n",
        "                else:\n",
        "                    linha_str += simbolo_vazio + ' '\n",
        "            linhas.append(linha_str)\n",
        "        return '\\n'.join(linhas)\n",
        "\n",
        "    while borda:\n",
        "        estado = borda.pop()\n",
        "        id_estado = estado_id(estado)\n",
        "\n",
        "        # Estado atual: amarelo\n",
        "        grafo.node(id_estado, formatar_tabuleiro(estado.vetor), fillcolor='gold')\n",
        "\n",
        "        # Mostrar grafo parcial\n",
        "        display(grafo)\n",
        "        time.sleep(atraso)\n",
        "\n",
        "        if problema.estado_objetivo(estado):\n",
        "            return problema.solucao(estado)\n",
        "\n",
        "        for vizinho in reversed(problema.funcao_sucessora(estado)):  # ordem: esquerda para direita\n",
        "            id_pai = estado_id(estado)\n",
        "            id_filho = estado_id(vizinho)\n",
        "\n",
        "            if vizinho not in memoria:\n",
        "                grafo.node(id_filho, formatar_tabuleiro(vizinho.vetor), fillcolor='palegreen')\n",
        "                grafo.edge(id_pai, id_filho, label=vizinho.acao or \"\")\n",
        "\n",
        "        for vizinho in problema.funcao_sucessora(estado):  # ordem: esquerda para direita\n",
        "            if vizinho not in memoria:\n",
        "                memoria.append(vizinho)\n",
        "                borda.append(vizinho)\n",
        "\n",
        "        # Após expansão: cinza escuro\n",
        "        grafo.node(id_estado, formatar_tabuleiro(estado.vetor), fillcolor='dimgray')\n",
        "\n",
        "    raise RuntimeError(\"Falha ao encontrar solução.\")\n"
      ],
      "metadata": {
        "id": "de1F3mbrcv0X"
      },
      "execution_count": 6,
      "outputs": []
    },
    {
      "cell_type": "code",
      "source": [
        "# Descomente o código abaixo para visualizar a execução do algoritmo\n",
        "n = 4\n",
        "#problema = ProblemaNRainhas(estado_inicial=[i for i in range(n)])\n",
        "#caminho = busca_profundidade_visual(problema, atraso=0.8)"
      ],
      "metadata": {
        "id": "TJdjjQVKcz_U"
      },
      "execution_count": 7,
      "outputs": []
    }
  ]
}