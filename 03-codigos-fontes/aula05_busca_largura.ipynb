{
  "nbformat": 4,
  "nbformat_minor": 0,
  "metadata": {
    "colab": {
      "provenance": [],
      "authorship_tag": "ABX9TyOlmjMD4z/1V5wHZkT+Zl74"
    },
    "kernelspec": {
      "name": "python3",
      "display_name": "Python 3"
    },
    "language_info": {
      "name": "python"
    }
  },
  "cells": [
    {
      "cell_type": "markdown",
      "source": [
        "# Busca em Largura\n"
      ],
      "metadata": {
        "id": "In5H5O9iOjhX"
      }
    },
    {
      "cell_type": "markdown",
      "source": [
        "## 📘 1. Introdução\n",
        "\n",
        "A Busca em Largura é uma estratégia de busca sem informação utilizada para explorar todos os nós de um grafo de forma sistemática, nível por nível. Ela utiliza uma fila (FIFO) como estrutura de dados principal e garante a descoberta do caminho mais curto (em número de passos) em grafos não ponderados.\n",
        "\n",
        "### Características:\n",
        "- Estratégia: Primeiro a Entrar, Primeiro a Sair (FIFO)\n",
        "- Completa: Sim\n",
        "- Ótima: Sim, para grafos com custo uniforme\n",
        "- Complexidade de tempo: $O(b^d)$, onde $b$ é o fator de ramificação e $d$ a profundidade da solução\n",
        "- Complexidade de espaço: $O(b^d)$"
      ],
      "metadata": {
        "id": "aYyweoLxR6Ab"
      }
    },
    {
      "cell_type": "markdown",
      "source": [
        "## 📘 2. Estrutura Básica do Problema"
      ],
      "metadata": {
        "id": "Upc4A4vSPFQN"
      }
    },
    {
      "cell_type": "markdown",
      "source": [
        "### Representação dos nós (estados)"
      ],
      "metadata": {
        "id": "OtgTmEM5Q_cy"
      }
    },
    {
      "cell_type": "code",
      "source": [
        "class Estado:\n",
        "    \"\"\"\n",
        "    Representa um estado no espaço de busca de um problema.\n",
        "\n",
        "    A estrutura é genérica, podendo ser utilizada em problemas como o quebra-cabeça de 8 peças,\n",
        "    labirintos, jogos e outros domínios que envolvem transições de estado.\n",
        "\n",
        "    A representação do estado é feita por meio de um vetor unidimensional.\n",
        "    \"\"\"\n",
        "\n",
        "    def __init__(self, vetor=None, custo=0, acao=None, pai=None):\n",
        "        \"\"\"\n",
        "        Inicializa um novo estado.\n",
        "\n",
        "        Args:\n",
        "            vetor (list[int], opcional): representação linear do estado (ex: 9 elementos do 8-puzzle).\n",
        "            custo (int): custo acumulado para atingir este estado a partir do estado inicial.\n",
        "            acao (str): ação que resultou neste estado a partir do estado pai (ex: 'cima', 'direita').\n",
        "            pai (Estado): referência ao estado anterior (para reconstrução do caminho da solução).\n",
        "        \"\"\"\n",
        "        if vetor is None:\n",
        "            vetor = []\n",
        "        self.vetor = vetor\n",
        "        self.custo = custo\n",
        "        self.acao = acao\n",
        "        self.pai = pai\n",
        "\n",
        "    def __getitem__(self, i):\n",
        "        \"\"\"\n",
        "        Permite o acesso direto aos elementos do vetor via indexação.\n",
        "\n",
        "        Args:\n",
        "            i (int): índice do elemento a ser acessado.\n",
        "\n",
        "        Returns:\n",
        "            int: valor na posição i do vetor.\n",
        "        \"\"\"\n",
        "        return self.vetor[i]\n",
        "\n",
        "    def __eq__(self, outro):\n",
        "        \"\"\"\n",
        "        Define igualdade entre dois estados com base em seus vetores.\n",
        "\n",
        "        Args:\n",
        "            outro (Estado): estado a ser comparado.\n",
        "\n",
        "        Returns:\n",
        "            bool: True se os vetores forem iguais, False caso contrário.\n",
        "        \"\"\"\n",
        "        if not isinstance(outro, Estado):\n",
        "            return False\n",
        "        return self.vetor == outro.vetor\n",
        "\n",
        "    def __hash__(self):\n",
        "        \"\"\"\n",
        "        Permite o uso de instâncias de Estado como chaves de dicionário ou em conjuntos.\n",
        "\n",
        "        Returns:\n",
        "            int: valor hash derivado do vetor (convertido em tupla).\n",
        "        \"\"\"\n",
        "        return hash(tuple(self.vetor))\n",
        "\n",
        "    def __repr__(self):\n",
        "        \"\"\"\n",
        "        Retorna uma representação legível do vetor do estado, útil para debug.\n",
        "\n",
        "        Returns:\n",
        "            str: representação textual do vetor do estado.\n",
        "        \"\"\"\n",
        "        return str(self.vetor)\n"
      ],
      "metadata": {
        "id": "_g8cIZAFQCKZ"
      },
      "execution_count": 1,
      "outputs": []
    },
    {
      "cell_type": "markdown",
      "source": [
        "### Representação do Problema"
      ],
      "metadata": {
        "id": "q9Rmvx8GRTzZ"
      }
    },
    {
      "cell_type": "code",
      "execution_count": 2,
      "metadata": {
        "id": "NJ2T7_VINS3b"
      },
      "outputs": [],
      "source": [
        "class Problema:\n",
        "    \"\"\"\n",
        "    Classe base para a modelagem de problemas de busca no espaço de estados.\n",
        "\n",
        "    Esta classe define a interface e estrutura mínima que deve ser seguida por qualquer\n",
        "    problema a ser resolvido com algoritmos de busca, como Busca em Largura, A*, entre outros.\n",
        "    \"\"\"\n",
        "\n",
        "    def __init__(self):\n",
        "        \"\"\"\n",
        "        Inicializa o problema com estado inicial nulo.\n",
        "        Subclasses devem sobrescrever essa inicialização.\n",
        "        \"\"\"\n",
        "        self._estado_inicial = None\n",
        "\n",
        "    @property\n",
        "    def estado_inicial(self):\n",
        "        \"\"\"\n",
        "        Retorna o estado inicial do problema.\n",
        "\n",
        "        Returns:\n",
        "            Estado: o estado de partida.\n",
        "        \"\"\"\n",
        "        if self._estado_inicial is None:\n",
        "            raise NotImplementedError(\"O estado inicial não foi definido.\")\n",
        "        return self._estado_inicial\n",
        "\n",
        "    def estado_objetivo(self, estado):\n",
        "        \"\"\"\n",
        "        Verifica se o estado fornecido atende à condição de objetivo.\n",
        "\n",
        "        Args:\n",
        "            estado (Estado): estado a ser testado.\n",
        "\n",
        "        Returns:\n",
        "            bool: True se é um estado objetivo, False caso contrário.\n",
        "        \"\"\"\n",
        "        raise NotImplementedError(\"Método 'estado_objetivo' deve ser implementado na subclasse.\")\n",
        "\n",
        "    def solucao(self, estado):\n",
        "        \"\"\"\n",
        "        Reconstrói o caminho do estado inicial até o estado objetivo, percorrendo os pais.\n",
        "\n",
        "        Args:\n",
        "            estado (Estado): estado objetivo atingido.\n",
        "\n",
        "        Returns:\n",
        "            list[Estado]: sequência de estados do caminho da solução.\n",
        "        \"\"\"\n",
        "        resultado = []\n",
        "        ptr = estado\n",
        "        while ptr:\n",
        "            resultado.append(ptr)\n",
        "            ptr = ptr.pai\n",
        "        return list(reversed(resultado))\n",
        "\n",
        "    def funcao_sucessora(self, estado):\n",
        "        \"\"\"\n",
        "        Retorna a lista de estados sucessores (vizinhos) do estado atual,\n",
        "        aplicando todas as ações válidas possíveis.\n",
        "\n",
        "        Args:\n",
        "            estado (Estado): estado atual.\n",
        "\n",
        "        Returns:\n",
        "            list[Estado]: estados sucessores gerados.\n",
        "        \"\"\"\n",
        "        raise NotImplementedError(\"Método 'funcao_sucessora' deve ser implementado na subclasse.\")\n"
      ]
    },
    {
      "cell_type": "markdown",
      "source": [
        "## 📘 3. Implementação da Busca em Largura"
      ],
      "metadata": {
        "id": "3RQtN92IRoyH"
      }
    },
    {
      "cell_type": "code",
      "source": [
        "def busca_largura(problema: Problema):\n",
        "    \"\"\"\n",
        "    Executa o algoritmo de Busca em Largura (Breadth-First Search - BFS)\n",
        "    para resolver um problema de busca no espaço de estados.\n",
        "\n",
        "    Args:\n",
        "        problema (Problema): Instância que define o problema com os métodos\n",
        "                             estado_inicial, estado_objetivo e funcao_sucessora.\n",
        "\n",
        "    Returns:\n",
        "        list[Estado]: Caminho da solução, do estado inicial ao objetivo.\n",
        "\n",
        "    Raises:\n",
        "        RuntimeError: Se a borda for esvaziada sem encontrar uma solução.\n",
        "    \"\"\"\n",
        "\n",
        "    # 1. Inicializa a borda com o estado inicial\n",
        "    borda = [problema.estado_inicial]  # fila FIFO\n",
        "\n",
        "    # 2. Inicializa a memória com o estado inicial visitado\n",
        "    memoria = [problema.estado_inicial]\n",
        "\n",
        "    # 3. Loop principal da busca\n",
        "    while borda:\n",
        "\n",
        "        # 4. Remove o primeiro estado da borda\n",
        "        estado = borda.pop(0)\n",
        "\n",
        "        # 5. Verifica se é o estado objetivo\n",
        "        if problema.estado_objetivo(estado):\n",
        "            return problema.solucao(estado)\n",
        "\n",
        "        # 6. Gera sucessores do estado atual\n",
        "        vizinhos = problema.funcao_sucessora(estado)\n",
        "\n",
        "        # 7. Adiciona novos estados à borda e à memória\n",
        "        for vizinho in vizinhos:\n",
        "            if vizinho not in memoria:\n",
        "                borda.append(vizinho)\n",
        "                memoria.append(vizinho)\n",
        "\n",
        "    # 8. Se a borda esvaziar, a solução não foi encontrada\n",
        "    raise RuntimeError(\"Falha ao encontrar solução.\")\n"
      ],
      "metadata": {
        "id": "iH6GKjOFSV-T"
      },
      "execution_count": 3,
      "outputs": []
    },
    {
      "cell_type": "markdown",
      "source": [
        "## 📘 4. Exemplo - Quebra cabeça de 8"
      ],
      "metadata": {
        "id": "Zxfav9I9S_WP"
      }
    },
    {
      "cell_type": "code",
      "source": [
        "from copy import deepcopy\n",
        "\n",
        "class ProblemaQuebraCabeca8(Problema):\n",
        "    \"\"\"\n",
        "    Classe que modela o problema do Quebra-Cabeça de 8 (8-puzzle), como subclasse de Problema.\n",
        "\n",
        "    A representação do estado é feita por uma lista linear com 9 elementos,\n",
        "    onde o número 0 representa o espaço vazio. A função sucessora é responsável\n",
        "    por gerar os estados vizinhos, evitando a repetição de estados já visitados.\n",
        "    \"\"\"\n",
        "\n",
        "    def __init__(self, estado_inicial=None):\n",
        "        \"\"\"\n",
        "        Inicializa a instância do problema com estado inicial opcional.\n",
        "\n",
        "        Args:\n",
        "            estado_inicial (Estado, optional): Estado inicial do problema. Se não for\n",
        "                fornecido, utiliza um estado padrão com configuração semi-embaralhada.\n",
        "        \"\"\"\n",
        "        if estado_inicial is None:\n",
        "            vetor_inicial = [1, 2, 3,\n",
        "                             4, 0, 5,\n",
        "                             6, 7, 8]\n",
        "            estado_inicial = Estado(vetor=vetor_inicial)\n",
        "        self._estado_inicial = estado_inicial\n",
        "        self.visitados = set()\n",
        "\n",
        "    def estado_objetivo(self, estado):\n",
        "        \"\"\"\n",
        "        Verifica se o estado atual é o estado objetivo do problema.\n",
        "\n",
        "        Args:\n",
        "            estado (Estado): Estado atual a ser verificado.\n",
        "\n",
        "        Returns:\n",
        "            bool: True se o vetor do estado corresponde à configuração objetivo,\n",
        "                  False caso contrário.\n",
        "        \"\"\"\n",
        "        return estado.vetor == [1, 2, 3, 4, 5, 6, 7, 8, 0]\n",
        "\n",
        "    def funcao_sucessora(self, estado):\n",
        "        \"\"\"\n",
        "        Gera os estados sucessores a partir do estado atual,\n",
        "        evitando estados já visitados.\n",
        "\n",
        "        Args:\n",
        "            estado (Estado): Estado atual do qual os sucessores serão gerados.\n",
        "\n",
        "        Returns:\n",
        "            list[Estado]: Lista de novos estados alcançáveis a partir do atual,\n",
        "                          cada um com ação e custo acumulado definidos.\n",
        "        \"\"\"\n",
        "        sucessores = []\n",
        "        vetor_atual = tuple(estado.vetor)\n",
        "        self.visitados.add(vetor_atual)\n",
        "\n",
        "        idx = estado.vetor.index(0)\n",
        "        linha, coluna = divmod(idx, 3)\n",
        "        movimentos = {\n",
        "            'cima': (-1, 0),\n",
        "            'baixo': (1, 0),\n",
        "            'esquerda': (0, -1),\n",
        "            'direita': (0, 1)\n",
        "        }\n",
        "\n",
        "        for acao, (dx, dy) in movimentos.items():\n",
        "            nova_linha, nova_coluna = linha + dx, coluna + dy\n",
        "            if 0 <= nova_linha < 3 and 0 <= nova_coluna < 3:\n",
        "                novo_idx = nova_linha * 3 + nova_coluna\n",
        "                novo_vetor = deepcopy(estado.vetor)\n",
        "                novo_vetor[idx], novo_vetor[novo_idx] = novo_vetor[novo_idx], novo_vetor[idx]\n",
        "\n",
        "                if tuple(novo_vetor) not in self.visitados:\n",
        "                    novo_estado = Estado(novo_vetor, estado.custo + 1, acao, estado)\n",
        "                    sucessores.append(novo_estado)\n",
        "                    self.visitados.add(tuple(novo_vetor))\n",
        "\n",
        "        return sucessores\n"
      ],
      "metadata": {
        "id": "ASfyRfCqVgAj"
      },
      "execution_count": 4,
      "outputs": []
    },
    {
      "cell_type": "code",
      "source": [
        "# Execução do problema\n",
        "problema = ProblemaQuebraCabeca8()\n",
        "caminho = busca_largura(problema)\n",
        "\n",
        "# Impressão simples dos estados no caminho\n",
        "for passo, estado in enumerate(caminho):\n",
        "    print(f\"Passo {passo} - Ação: {estado.acao}\")\n",
        "    for i in range(0, 9, 3):\n",
        "        print(estado.vetor[i:i+3])\n",
        "    print()"
      ],
      "metadata": {
        "colab": {
          "base_uri": "https://localhost:8080/"
        },
        "id": "40G_WjodVujR",
        "outputId": "222f91a5-b90f-41f9-87e0-5f5a7b762a2a"
      },
      "execution_count": 5,
      "outputs": [
        {
          "output_type": "stream",
          "name": "stdout",
          "text": [
            "Passo 0 - Ação: None\n",
            "[1, 2, 3]\n",
            "[4, 0, 5]\n",
            "[6, 7, 8]\n",
            "\n",
            "Passo 1 - Ação: direita\n",
            "[1, 2, 3]\n",
            "[4, 5, 0]\n",
            "[6, 7, 8]\n",
            "\n",
            "Passo 2 - Ação: baixo\n",
            "[1, 2, 3]\n",
            "[4, 5, 8]\n",
            "[6, 7, 0]\n",
            "\n",
            "Passo 3 - Ação: esquerda\n",
            "[1, 2, 3]\n",
            "[4, 5, 8]\n",
            "[6, 0, 7]\n",
            "\n",
            "Passo 4 - Ação: esquerda\n",
            "[1, 2, 3]\n",
            "[4, 5, 8]\n",
            "[0, 6, 7]\n",
            "\n",
            "Passo 5 - Ação: cima\n",
            "[1, 2, 3]\n",
            "[0, 5, 8]\n",
            "[4, 6, 7]\n",
            "\n",
            "Passo 6 - Ação: direita\n",
            "[1, 2, 3]\n",
            "[5, 0, 8]\n",
            "[4, 6, 7]\n",
            "\n",
            "Passo 7 - Ação: baixo\n",
            "[1, 2, 3]\n",
            "[5, 6, 8]\n",
            "[4, 0, 7]\n",
            "\n",
            "Passo 8 - Ação: direita\n",
            "[1, 2, 3]\n",
            "[5, 6, 8]\n",
            "[4, 7, 0]\n",
            "\n",
            "Passo 9 - Ação: cima\n",
            "[1, 2, 3]\n",
            "[5, 6, 0]\n",
            "[4, 7, 8]\n",
            "\n",
            "Passo 10 - Ação: esquerda\n",
            "[1, 2, 3]\n",
            "[5, 0, 6]\n",
            "[4, 7, 8]\n",
            "\n",
            "Passo 11 - Ação: esquerda\n",
            "[1, 2, 3]\n",
            "[0, 5, 6]\n",
            "[4, 7, 8]\n",
            "\n",
            "Passo 12 - Ação: baixo\n",
            "[1, 2, 3]\n",
            "[4, 5, 6]\n",
            "[0, 7, 8]\n",
            "\n",
            "Passo 13 - Ação: direita\n",
            "[1, 2, 3]\n",
            "[4, 5, 6]\n",
            "[7, 0, 8]\n",
            "\n",
            "Passo 14 - Ação: direita\n",
            "[1, 2, 3]\n",
            "[4, 5, 6]\n",
            "[7, 8, 0]\n",
            "\n"
          ]
        }
      ]
    },
    {
      "cell_type": "markdown",
      "source": [
        "## 📘 5. Exemplo Visual"
      ],
      "metadata": {
        "id": "5EpbO6zpWPz8"
      }
    },
    {
      "cell_type": "code",
      "source": [
        "!pip install graphviz"
      ],
      "metadata": {
        "colab": {
          "base_uri": "https://localhost:8080/"
        },
        "id": "6TnXZwSuWbmG",
        "outputId": "beebd9fe-723e-46ae-e4d1-e4d84064032b"
      },
      "execution_count": 6,
      "outputs": [
        {
          "output_type": "stream",
          "name": "stdout",
          "text": [
            "Requirement already satisfied: graphviz in /usr/local/lib/python3.11/dist-packages (0.20.3)\n"
          ]
        }
      ]
    },
    {
      "cell_type": "code",
      "source": [
        "from graphviz import Digraph\n",
        "from IPython.display import display\n",
        "import time\n",
        "\n",
        "def busca_largura_visual(problema: Problema, atraso=1.0):\n",
        "    \"\"\"\n",
        "    Executa busca em largura com visualização gráfica da árvore.\n",
        "    \"\"\"\n",
        "    borda = [problema.estado_inicial]\n",
        "    memoria = [problema.estado_inicial]\n",
        "\n",
        "    grafo = Digraph(format='png')\n",
        "    grafo.attr('graph', rankdir='TB')  # top-to-bottom\n",
        "    grafo.attr('node',\n",
        "               shape='box',\n",
        "               style='filled,rounded',\n",
        "               fontname='monospace',\n",
        "               fontsize='10',\n",
        "               width='0.4',\n",
        "               height='0.4',\n",
        "               margin='0.05')\n",
        "\n",
        "    grafo.attr('edge', fontname='monospace', fontsize='10')\n",
        "\n",
        "    id_nos = {}\n",
        "    contador_id = 0\n",
        "\n",
        "    def estado_id(estado):\n",
        "        nonlocal contador_id\n",
        "        if estado not in id_nos:\n",
        "            id_nos[estado] = f\"n{contador_id}\"\n",
        "            contador_id += 1\n",
        "        return id_nos[estado]\n",
        "\n",
        "    def formatar_matriz(vetor):\n",
        "        \"\"\"Formata vetor como matriz 3x3 para exibição no nó.\"\"\"\n",
        "        return '\\n'.join([\n",
        "            ' '.join(f\"{x}\" if x != 0 else \" \" for x in vetor[i:i+3])\n",
        "            for i in range(0, 9, 3)\n",
        "        ])\n",
        "\n",
        "    while borda:\n",
        "        estado = borda.pop(0)\n",
        "        id_estado = estado_id(estado)\n",
        "\n",
        "        # Destaca o estado atual com amarelo\n",
        "        grafo.node(id_estado, formatar_matriz(estado.vetor), fillcolor='gold')\n",
        "\n",
        "        # Exibe árvore parcial\n",
        "        display(grafo)\n",
        "        time.sleep(atraso)\n",
        "\n",
        "        if problema.estado_objetivo(estado):\n",
        "            return problema.solucao(estado)\n",
        "\n",
        "        vizinhos = problema.funcao_sucessora(estado)\n",
        "\n",
        "        for vizinho in vizinhos:\n",
        "            id_pai = estado_id(estado)\n",
        "            id_filho = estado_id(vizinho)\n",
        "\n",
        "            if vizinho not in memoria:\n",
        "                memoria.append(vizinho)\n",
        "                borda.append(vizinho)\n",
        "\n",
        "                # Nó filho em verde\n",
        "                grafo.node(id_filho, formatar_matriz(vizinho.vetor), fillcolor='palegreen')\n",
        "                grafo.edge(id_pai, id_filho, label=vizinho.acao)\n",
        "\n",
        "        # Estado já visitado fica em cinza escuro\n",
        "        grafo.node(id_estado, formatar_matriz(estado.vetor), fillcolor='dimgray')\n",
        "\n",
        "    raise RuntimeError(\"Falha ao encontrar solução.\")\n"
      ],
      "metadata": {
        "id": "LBhST7pFWgbO"
      },
      "execution_count": 7,
      "outputs": []
    },
    {
      "cell_type": "code",
      "source": [
        "# Descomente o código abaixo para visualizar a execução do algoritmo\n",
        "\n",
        "#problema = ProblemaQuebraCabeca8()\n",
        "#caminho = busca_largura_visual(problema, atraso=0.8)"
      ],
      "metadata": {
        "id": "SsQIohBNWj6X"
      },
      "execution_count": 8,
      "outputs": []
    }
  ]
}