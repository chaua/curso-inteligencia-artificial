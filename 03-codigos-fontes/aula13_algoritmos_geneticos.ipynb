{
  "nbformat": 4,
  "nbformat_minor": 0,
  "metadata": {
    "colab": {
      "provenance": [],
      "collapsed_sections": [
        "kONDi5C7Dcvg"
      ],
      "authorship_tag": "ABX9TyOgM0f/HSmtz1wUr762WSQE"
    },
    "kernelspec": {
      "name": "python3",
      "display_name": "Python 3"
    },
    "language_info": {
      "name": "python"
    }
  },
  "cells": [
    {
      "cell_type": "markdown",
      "source": [
        "# Algoritmos Genéticos\n",
        "\n",
        "Estrutura básica do algoritmo evolutivo:\n",
        "\n",
        "```\n",
        "1. t = 0\n",
        "2. Inicializar população P0\n",
        "3. Enquanto critério de parada == falso\n",
        "   3.1 Avaliar população (Pt)\n",
        "   3.2 P’ = Selecionar pais (Pt)\n",
        "   3.3 F  = Aplicar recombinação e mutação (P’)\n",
        "   3.4 Avaliar população (F)\n",
        "   3.5 Pt+1 = Selecionar sobreviventes(Pt + F)\n",
        "   3.6 t = t + 1\n",
        "```\n"
      ],
      "metadata": {
        "id": "o-vuaAdoFWbh"
      }
    },
    {
      "cell_type": "markdown",
      "source": [
        "## Modelagem do cromossomo"
      ],
      "metadata": {
        "id": "WA0Mt3oUC7ry"
      }
    },
    {
      "cell_type": "markdown",
      "source": [
        "Esta classe abstrai o conceito biológico de um cromossomo, sendo composta por um vetor binário que representa uma solução candidata a um determinado problema. Cada elemento do vetor (gene) assume valores binários (0 ou 1), o que caracteriza uma codificação genotípica simples para diversos problemas combinatórios.\n",
        "\n",
        "A classe possui os seguintes propósitos específicos:\n",
        "\n",
        "- **Inicialização Estocástica:** geração aleatória do vetor binário para simular a diversidade genética da população inicial, promovendo a variabilidade necessária à exploração do espaço de busca.\n",
        "\n",
        "- **Encapsulamento da Função de Aptidão:** O atributo fitness permite avaliar a qualidade de cada cromossomo com base em critérios específicos do problema. Essa função é central nos processos de seleção natural do AG.\n",
        "\n",
        "- **Sobrecarga de Operadores:** Métodos como `__getitem__` e `__setitem__` viabilizam a manipulação direta dos genes, facilitando a implementação de operadores genéticos como cruzamento e mutação.\n",
        "\n",
        "- **Dataclasses**: A utilização do decorador `dataclass` e de type hints (`List`, `Callable`) permite maior legibilidade do código."
      ],
      "metadata": {
        "id": "fTtBSB6j1Nue"
      }
    },
    {
      "cell_type": "code",
      "source": [
        "# Importações necessárias\n",
        "from dataclasses import dataclass             # Decorador para criação automática de métodos em classes de dados\n",
        "from dataclasses import field                  # Utilizado para definir campos com valores padrão mais complexos\n",
        "from typing import List                       # Tipo para listas\n",
        "from typing import Callable                   # Tipo para funções como parâmetro\n",
        "from random import randint                    # Geração de números aleatórios inteiros\n",
        "\n",
        "@dataclass\n",
        "class Cromossomo:\n",
        "    \"\"\"\n",
        "    Classe que representa um cromossomo (indivíduo) em um algoritmo genético.\n",
        "    \"\"\"\n",
        "\n",
        "    fitness: Callable[[int], float]                  # Função de avaliação da aptidão (fitness), recebe um vetor de inteiros e retorna um float\n",
        "    tamanho: int = 0                               # Tamanho do vetor binário que representa o cromossomo\n",
        "    vetor: List[int] = field(default_factory=list)  # Vetor binário que representa o cromossomo; inicializado com lista vazia\n",
        "\n",
        "    def __post_init__(self):\n",
        "        \"\"\"\n",
        "        Método especial executado imediatamente após a criação da instância.\n",
        "        Inicializa o vetor com valores binários aleatórios (0 ou 1), simulando um cromossomo genético binário.\n",
        "        \"\"\"\n",
        "        self.vetor = [randint(0, 1) for _ in range(self.tamanho)]\n",
        "\n",
        "    def __getitem__(self, key):\n",
        "        \"\"\"\n",
        "        Permite acesso direto aos elementos do vetor utilizando o operador de indexação (objeto[i]).\n",
        "        \"\"\"\n",
        "        return self.vetor[key]\n",
        "\n",
        "    def __setitem__(self, key, value):\n",
        "        \"\"\"\n",
        "        Permite modificação direta dos elementos do vetor utilizando o operador de indexação (objeto[i] = valor).\n",
        "        \"\"\"\n",
        "        self.vetor[key] = value\n",
        "\n",
        "    def __len__(self):\n",
        "        \"\"\"\n",
        "        Retorna o tamanho do vetor, compatível com a função len().\n",
        "        \"\"\"\n",
        "        return self.tamanho\n",
        "\n",
        "    def get_fitness(self):\n",
        "        \"\"\"\n",
        "        Executa a função de avaliação de aptidão sobre o vetor.\n",
        "        A função fitness é definida externamente e passada ao construtor.\n",
        "        \"\"\"\n",
        "        return self.fitness(self.vetor)\n",
        "\n",
        "    # TODO: Implementar a cache do fitness para evitar reavaliação do fitness\n"
      ],
      "metadata": {
        "id": "2xSCI60IFkk9"
      },
      "execution_count": 1,
      "outputs": []
    },
    {
      "cell_type": "markdown",
      "source": [
        "## Algoritmos de seleção dos pais\n",
        "\n",
        "O objetivo é escolher os indivíduos da população atual que irão se reproduzir, gerando novos indivíduos (descendentes) para a próxima geração. Ele simula o princípio darwiniano da seleção natural, no qual indivíduos com maior aptidão apresentam maior probabilidade de transmitir seu material genético à próxima geração.\n",
        "\n",
        "Os métodos mais comuns são:\n",
        "\n",
        "- **Roleta Viciada:** A probabilidade de seleção é proporcional à aptidão do indivíduo.\n",
        "\n",
        "- **Torneio**: Um subconjunto de tamanho k da população é selecionado, e o indivíduo com maior aptidão é escolhido como pai.\n",
        "\n",
        "- **Rankeamento**: Os indivíduos são ordenados por aptidão e recebem uma probabilidade de seleção baseada em sua posição.\n",
        "\n",
        "A seleção dos pais pode ser realizada de duas maneiras:\n",
        "\n",
        "- **Com reposição:** Permite que um cromossomo seja escolhido mais de uma vez.\n",
        "\n",
        "- **Sem reposição:** Um cromossomo que já foi selecionado não pode ser selecionado novamente."
      ],
      "metadata": {
        "id": "9G-t8xACDC4T"
      }
    },
    {
      "cell_type": "code",
      "source": [
        "from typing import Tuple                 # Tipo para listas\n",
        "from typing import List                  # Tipo para listas\n",
        "from typing import Callable              # Tipo para funções como parâmetro\n",
        "from random import sample\n",
        "\n",
        "def selecao_aleatoria_com_reposicao(P: List[Cromossomo]) -> List[Tuple[Cromossomo, Cromossomo]]:\n",
        "    \"\"\"Seleciona pares de pais aleatoriamente com reposição.\n",
        "\n",
        "    Recebe como entrada a população P (lista de objetos Cromossomo) e retorna uma lista de tuplas, onde cada\n",
        "    tupla representa um casal de pais selecionados.\n",
        "    \"\"\"\n",
        "    pais = []\n",
        "\n",
        "    # Executa o processo de seleção para formar len(P) // 2 casais\n",
        "    for _ in range(len(P) // 2):\n",
        "        pais.append(sample(P, 2))  #\n",
        "\n",
        "    return pais"
      ],
      "metadata": {
        "id": "iT4imQq-M8-j"
      },
      "execution_count": 4,
      "outputs": []
    },
    {
      "cell_type": "code",
      "source": [
        "from typing import Tuple\n",
        "from typing import List\n",
        "from typing import Callable\n",
        "\n",
        "\n",
        "def selecao_aleatoria_com_reposicao(P: List[Cromossomo]) -> List[Tuple[Cromossomo, Cromossomo]]:\n",
        "    \"\"\"Seleciona pares de pais aleatoriamente com reposição.\n",
        "\n",
        "    Recebe como entrada a população P (lista de objetos Cromossomo) e retorna uma lista de tuplas, onde cada\n",
        "    tupla representa um casal de pais selecionados.\n",
        "    \"\"\"\n",
        "    ...\n",
        "\n",
        "    #TODO: Implementar esta função\n"
      ],
      "metadata": {
        "id": "1rrPBlde6wFj"
      },
      "execution_count": null,
      "outputs": []
    },
    {
      "cell_type": "code",
      "source": [
        "from typing import Tuple\n",
        "from typing import List\n",
        "from typing import Callable\n",
        "\n",
        "\n",
        "def selecao_roleta_com_reposicao(P: List[Cromossomo]) -> List[Tuple[Cromossomo, Cromossomo]]:\n",
        "    \"\"\"Seleciona pares de pais com base na roleta viciada, com reposição.\n",
        "\n",
        "    A probabilidade de um indivíduo ser selecionado é proporcional à sua aptidão.\n",
        "    \"\"\"\n",
        "    ...\n",
        "\n",
        "    #TODO: Implementar esta função\n"
      ],
      "metadata": {
        "id": "XsOWu7k961IM"
      },
      "execution_count": null,
      "outputs": []
    },
    {
      "cell_type": "code",
      "source": [
        "from typing import Tuple\n",
        "from typing import List\n",
        "from typing import Callable\n",
        "\n",
        "\n",
        "def selecao_roleta_sem_reposicao(P: List[Cromossomo]) -> List[Tuple[Cromossomo, Cromossomo]]:\n",
        "    \"\"\"Seleciona pares de pais com base na roleta viciada, sem reposição dentro de cada par.\n",
        "\n",
        "    Garante que os dois indivíduos de cada par sejam distintos.\n",
        "    \"\"\"\n",
        "    ...\n",
        "\n",
        "    #TODO: Implementar esta função\n",
        ""
      ],
      "metadata": {
        "id": "jOFKZSqi5mVN"
      },
      "execution_count": null,
      "outputs": []
    },
    {
      "cell_type": "code",
      "source": [
        "from typing import Tuple\n",
        "from typing import List\n",
        "from typing import Callable\n",
        "\n",
        "\n",
        "def selecao_torneio_com_reposicao(P: List[Cromossomo], k: int = 3) -> List[Tuple[Cromossomo, Cromossomo]]:\n",
        "    \"\"\"Seleciona pares de pais usando torneio com k competidores, com reposição.\n",
        "\n",
        "    Cada pai é o vencedor de um torneio entre k indivíduos escolhidos aleatoriamente.\n",
        "    \"\"\"\n",
        "    pass\n",
        "\n",
        "    # TODO: Implementar essa função\n",
        ""
      ],
      "metadata": {
        "id": "2cgbvt7g6YiA"
      },
      "execution_count": null,
      "outputs": []
    },
    {
      "cell_type": "code",
      "source": [
        "from typing import Tuple\n",
        "from typing import List\n",
        "from typing import Callable\n",
        "\n",
        "\n",
        "def selecao_torneio_sem_reposicao(P: List[Cromossomo], k: int = 3) -> List[Tuple[Cromossomo, Cromossomo]]:\n",
        "    \"\"\"Seleciona pares de pais usando torneio com k competidores, sem reposição dentro de cada par.\n",
        "\n",
        "    Garante que os dois pais de cada casal sejam distintos.\n",
        "    \"\"\"\n",
        "    pass\n",
        "\n",
        "    # TODO: Implementar essa função\n",
        ""
      ],
      "metadata": {
        "id": "kljrvbm_6bLP"
      },
      "execution_count": null,
      "outputs": []
    },
    {
      "cell_type": "markdown",
      "source": [
        "## Algoritmos de recombinação"
      ],
      "metadata": {
        "id": "gtLUu4PkDNCd"
      }
    },
    {
      "cell_type": "markdown",
      "source": [
        "O objetivo é combinar o material genético de dois indivíduos selecionados, a fim de gerar novos descendentes que herdem características de ambos os progenitores. Ela simula o processo de reprodução sexual observado na biologia, permitindo a mistura de informações genéticas e favorecendo a criação de soluções potencialmente superiores.\n",
        "\n",
        "As principais técnicas são:\n",
        "\n",
        "- **Cruzamento de um ponto:** Um ponto de corte é escolhido aleatoriamente no vetor genético; os genes anteriores vêm de um pai, os posteriores do outro.\n",
        "\n",
        "- **Cruzamento de dois pontos:** Dois pontos são definidos; os genes entre esses pontos são trocados.\n",
        "\n",
        "- **Cruzamento uniforme:** Cada gene do descendente é escolhido aleatoriamente de um dos dois pais com probabilidade uniforme."
      ],
      "metadata": {
        "id": "8grDSsCF3_7f"
      }
    },
    {
      "cell_type": "code",
      "source": [
        "from typing import Tuple\n",
        "from typing import List\n",
        "from random import randint\n",
        "\n",
        "def crossover_1_ponto_corte(pais: List[Tuple[Cromossomo, Cromossomo]]):\n",
        "    \"\"\"Cruzamento de um ponto de corte.\n",
        "\n",
        "    Recebe uma lista de pares de pais e retorna uma lista de descendentes.\n",
        "    \"\"\"\n",
        "    filhos = []\n",
        "\n",
        "    # Crossover - 1 ponto de corte\n",
        "    for p1, p2 in pais:\n",
        "        corte = randint(1, len(p1) - 1)\n",
        "\n",
        "        f1 = p1[:corte] + p2[corte:]\n",
        "        f2 = p2[:corte] + p1[corte:]\n",
        "\n",
        "        filhos.append(Cromossomo(p1.fitness, len(f1), f1))\n",
        "        filhos.append(Cromossomo(p1.fitness, len(f2), f2))\n",
        "\n",
        "    return filhos"
      ],
      "metadata": {
        "id": "wiTvpIfPqSCA"
      },
      "execution_count": 5,
      "outputs": []
    },
    {
      "cell_type": "code",
      "source": [
        "from typing import Tuple\n",
        "from typing import List\n",
        "from random import randint\n",
        "\n",
        "def crossover_2_pontos_corte(pais: List[Tuple[Cromossomo, Cromossomo]]):\n",
        "    \"\"\"Cruzamento de dois pontos de corte.\n",
        "\n",
        "    Recebe uma lista de pares de pais e retorna uma lista de descendentes.\n",
        "    \"\"\"\n",
        "    pass\n",
        "\n",
        "    # TODO: Implementar essa função"
      ],
      "metadata": {
        "id": "SGWkUTY57VDt"
      },
      "execution_count": null,
      "outputs": []
    },
    {
      "cell_type": "code",
      "source": [
        "from typing import Tuple\n",
        "from typing import List\n",
        "from random import randint\n",
        "\n",
        "def crossover_uniforme(pais: List[Tuple[Cromossomo, Cromossomo]]):\n",
        "    \"\"\"Cruzamento uniforme.\n",
        "\n",
        "    Recebe uma lista de pares de pais e retorna uma lista de descendentes.\n",
        "    \"\"\"\n",
        "    pass\n",
        "\n",
        "    # TODO: Implementar essa função"
      ],
      "metadata": {
        "id": "Hqe7jvqO7h5U"
      },
      "execution_count": null,
      "outputs": []
    },
    {
      "cell_type": "markdown",
      "source": [
        "## Mutação\n",
        "\n",
        "O objetivo é introduzir alterações aleatórias no genótipo dos indivíduos, modificando um ou mais genes com baixa probabilidade. Ela simula erros espontâneos que ocorrem na replicação do material genético, contribuindo para a diversidade genética da população e prevenindo a convergência prematura para ótimos locais.\n",
        "\n",
        "As formas de mutação são:\n",
        "\n",
        "- **Mutação bit-flip:** Inverte o valor de um gene (0 → 1 ou 1 → 0) com uma certa probabilidade $p$.\n",
        "\n",
        "- **Mutação pontual:** Altera aleatoriamente um gene com base em um operador probabilístico."
      ],
      "metadata": {
        "id": "AYJAfarn-LJt"
      }
    },
    {
      "cell_type": "code",
      "source": [
        "from random import random\n",
        "\n",
        "def mutacao_aleatoria(filhos, taxa):\n",
        "    \"\"\"\n",
        "    Mutação bit-flip - troca o valor de cada gene com uma certa probabilidade.\n",
        "\n",
        "    Recebe uma lista de descendentes e retorna uma lista de descendentes mutados.\n",
        "    \"\"\"\n",
        "\n",
        "    for cromossomo in filhos:\n",
        "        for i, pos in enumerate(cromossomo):\n",
        "            if random() <= taxa:\n",
        "\n",
        "                # Inverte o valor do bit\n",
        "                cromossomo[i] = 0 if pos else 1\n",
        "\n",
        "    return filhos"
      ],
      "metadata": {
        "id": "OXw71Qqhs7am"
      },
      "execution_count": null,
      "outputs": []
    },
    {
      "cell_type": "markdown",
      "source": [
        "## Algoritmos de seleção dos sobreviventes"
      ],
      "metadata": {
        "id": "kONDi5C7Dcvg"
      }
    },
    {
      "cell_type": "markdown",
      "source": [
        "O objetivo é determinar quais indivíduos serão mantidos na população após a aplicação dos operadores genéticos. Ela simula o processo de sobrevivência diferencial, no qual apenas os indivíduos mais aptos ou adaptados permanecem ativos no ambiente evolutivo, garantindo a progressão adaptativa da população ao longo das gerações.\n",
        "\n",
        "As estratégias mais comuns são:\n",
        "\n",
        "- **Aleatória:** Cada indivíduo possui a mesma probabilidade de ser selecionado, independentemente de sua aptidão. Não fornece pressão evolutiva.\n",
        "\n",
        "- **Substituição total**: Todos os pais são substituídos pelos descendentes.\n",
        "\n",
        "- **Elitismo:** Seleciona diretamente os $N$ indivíduos com maior aptidão. É a forma de seleção mais agressiva e determinística.\n",
        "\n",
        "- **Estratégia $\\mu + λ$:** Seleciona os $\\mu$ melhores indivíduos, onde $\\mu + λ = 2N$. Equivale a uma forma generalizada de elitismo, podendo ser ajustada com diferentes valores de $\\mu$ e $λ$.\n",
        "\n",
        "- **Torneio**: Seleciona $N$ sobreviventes entre pais e filhos através de torneios entre $k$ indivíduos escolhidos aleatoriamente.\n",
        "\n",
        "- **Ranking:** Todos os indivíduos são ordenados por aptidão e recebem uma probabilidade de seleção baseada na posição no ranking, e não na aptidão absoluta. Indivíduos melhor classificados têm maior chance de sobreviver, mas a diferença entre os primeiros e os últimos é suavizada."
      ],
      "metadata": {
        "id": "4i1Texb9_HML"
      }
    },
    {
      "cell_type": "code",
      "source": [
        "from typing import List\n",
        "\n",
        "def elitismo(P: List[Cromossomo], F: List[Cromossomo]) -> List[Cromossomo]:\n",
        "    \"\"\"Seleção dos sobreviventes por elitismos.\n",
        "\n",
        "    Seleciona apenas os N melhores indivíduos da população P e da população F.\n",
        "    \"\"\"\n",
        "\n",
        "    populacao_total = P + F\n",
        "    populacao_total.sort(key=lambda c: -c.get_fitness())\n",
        "    return populacao_total[:len(P)]"
      ],
      "metadata": {
        "id": "jMSYFzMiuyS6"
      },
      "execution_count": null,
      "outputs": []
    },
    {
      "cell_type": "code",
      "source": [
        "from typing import List\n",
        "\n",
        "def torneio(P: List[Cromossomo], F: List[Cromossomo], k:int) -> List[Cromossomo]:\n",
        "    \"\"\"Seleção dos sobreviventes por torneio.\n",
        "    \"\"\"\n",
        "    pass\n",
        "\n",
        "    # TODO: Implementar essa função"
      ],
      "metadata": {
        "id": "FZD42OBQBfPh"
      },
      "execution_count": null,
      "outputs": []
    },
    {
      "cell_type": "code",
      "source": [
        "from typing import List\n",
        "\n",
        "def ranking(P: List[Cromossomo], F: List[Cromossomo]) -> List[Cromossomo]:\n",
        "    \"\"\"Seleção dos sobreviventes por ranking.\n",
        "    \"\"\"\n",
        "    pass\n",
        "\n",
        "    # TODO: Implementar essa função"
      ],
      "metadata": {
        "id": "GUA6nMqQBrpr"
      },
      "execution_count": null,
      "outputs": []
    },
    {
      "cell_type": "code",
      "source": [
        "from typing import List\n",
        "\n",
        "def estrategia_mu_lambda(P: List[Cromossomo], F: List[Cromossomo], mu: int) -> List[Cromossomo]:\n",
        "    \"\"\"Seleção dos sobreviventes por estrategia \\mu + \\lambda.\n",
        "    \"\"\"\n",
        "    pass\n",
        "\n",
        "    # TODO: Implementar essa função"
      ],
      "metadata": {
        "id": "LctLczF4B455"
      },
      "execution_count": null,
      "outputs": []
    },
    {
      "cell_type": "markdown",
      "source": [
        "## Algoritmo genético"
      ],
      "metadata": {
        "id": "yl9Bns4hDsBo"
      }
    },
    {
      "cell_type": "code",
      "source": [
        "from pprint import pprint\n",
        "\n",
        "def algoritmo_genetico(tam_populacao,\n",
        "                       tam_cromossomo,\n",
        "                       max_geracoes,\n",
        "                       taxa_mutacao,\n",
        "                       fitness,\n",
        "                       selecionar_pais,\n",
        "                       realizar_crossover,\n",
        "                       realizar_mutacao,\n",
        "                       selecionar_sobreviventes):\n",
        "\n",
        "    # 1. t = 0\n",
        "    t = 0\n",
        "\n",
        "    # 2. Inicializar população P0\n",
        "    P = [Cromossomo(fitness, TAM_CROMOSSOMO) for _ in range(TAM_POPULACAO)]\n",
        "\n",
        "    # print(\"# População inicial\")\n",
        "    # pprint([c.vetor for c in P])\n",
        "\n",
        "    # 3. Enquanto critério de parada == falso\n",
        "    # TODO: implementar outros critérios de parada\n",
        "    while t < max_geracoes:\n",
        "\n",
        "        #   3.1 Avaliar população (Pt)\n",
        "        #   OK! Avaliação delegada para o cromossomo\n",
        "\n",
        "        #   3.2 P’ = Selecionar pais (Pt)\n",
        "        pais = selecionar_pais(P)\n",
        "\n",
        "        #   3.3 F  = Aplicar recombinação e mutação (P’)\n",
        "        F = realizar_crossover(pais)\n",
        "        F = realizar_mutacao(F, TAXA_MUTACAO)\n",
        "\n",
        "        #   3.4 Avaliar população (F)\n",
        "        #   OK! Avaliação delegada para o cromossomo\n",
        "\n",
        "        #   3.5 Pt+1 = Selecionar sobreviventes(Pt + F)\n",
        "        P = selecionar_sobreviventes(P, F)\n",
        "\n",
        "        # Imprime o melhor individuo\n",
        "        print(f'| {t:04d} | {P[0].vetor} | {P[0].get_fitness():4d} |')\n",
        "\n",
        "        #   3.6 t = t + 1\n",
        "        t += 1\n",
        "\n",
        "    print()\n",
        "    print(f'Melhor solução.: {P[0].vetor}')\n",
        "    print(f'Fitness........: {P[0].get_fitness()}')\n",
        "\n",
        "    return P[0]"
      ],
      "metadata": {
        "id": "VvBvqFArLG0L"
      },
      "execution_count": null,
      "outputs": []
    },
    {
      "cell_type": "markdown",
      "source": [],
      "metadata": {
        "id": "2gE45aU4Bkj1"
      }
    },
    {
      "cell_type": "markdown",
      "source": [
        "## Exemplo de aplicação em um problema\n",
        "\n",
        "Objetivo: maximizar o número de 1s em um cromossomo.\n",
        "\n",
        "Etapas:\n",
        "\n",
        "1. Modelar o genótipo e fenótipo do cromossomo\n",
        "2. Criar a função de avaliação\n",
        "3. Selecionar parâmetros do AG\n",
        "4. Executar"
      ],
      "metadata": {
        "id": "aFrgANU2EqWr"
      }
    },
    {
      "cell_type": "code",
      "source": [
        "# 1. Modelar o genótipo e fenótipo do cromossomo\n",
        "# Cromomossomo normal, sem nenhuma codificação especial para esse problema\n",
        "\n",
        "# 2. Criar a função de avaliação\n",
        "def fitness_maximizar_1(cromossomo):\n",
        "    return sum(cromossomo)\n",
        "\n",
        "# 3. Parametrizar o AG\n",
        "TAM_POPULACAO = 100\n",
        "TAM_CROMOSSOMO = 40\n",
        "MAX_GERACOES = 150\n",
        "\n",
        "TAXA_MUTACAO = 0.01\n",
        "TORNEIO = 2\n",
        "\n",
        "# 4. Executar\n",
        "solucao = algoritmo_genetico(tam_populacao = TAM_POPULACAO,\n",
        "                             tam_cromossomo = TAM_CROMOSSOMO,\n",
        "                             max_geracoes = MAX_GERACOES,\n",
        "                             taxa_mutacao = TAXA_MUTACAO,\n",
        "                             fitness = fitness_maximizar_1,\n",
        "                             selecionar_pais = selecao_aleatoria_com_reposicao,\n",
        "                             realizar_crossover = crossover_1_ponto_corte,\n",
        "                             realizar_mutacao = mutacao_aleatoria,\n",
        "                             selecionar_sobreviventes = elitismo)\n",
        "\n",
        "\n"
      ],
      "metadata": {
        "id": "nSqILIsiEuU2"
      },
      "execution_count": null,
      "outputs": []
    },
    {
      "cell_type": "code",
      "source": [
        "print('== EXPERIMENTO 1 ==')\n",
        "MAX_GERACOES = 100\n",
        "TAXA_MUTACAO = 0.9\n",
        "\n",
        "solucao = algoritmo_genetico(tam_populacao = TAM_POPULACAO,\n",
        "                             tam_cromossomo = TAM_CROMOSSOMO,\n",
        "                             max_geracoes = MAX_GERACOES,\n",
        "                             taxa_mutacao = TAXA_MUTACAO,\n",
        "                             fitness = fitness_maximizar_1,\n",
        "                             selecionar_pais = selecao_aleatoria_com_reposicao,\n",
        "                             realizar_crossover = crossover_1_ponto_corte,\n",
        "                             realizar_mutacao = mutacao_aleatoria,\n",
        "                             selecionar_sobreviventes = elitismo)"
      ],
      "metadata": {
        "id": "pw1-lQbcJNQP"
      },
      "execution_count": null,
      "outputs": []
    },
    {
      "cell_type": "code",
      "source": [
        "print('== EXPERIMENTO 2 ==')\n",
        "MAX_GERACOES = 20\n",
        "TAXA_MUTACAO = 0.1\n",
        "\n",
        "solucao = algoritmo_genetico(tam_populacao = TAM_POPULACAO,\n",
        "                             tam_cromossomo = TAM_CROMOSSOMO,\n",
        "                             max_geracoes = MAX_GERACOES,\n",
        "                             taxa_mutacao = TAXA_MUTACAO,\n",
        "                             fitness = fitness_maximizar_1,\n",
        "                             selecionar_pais = selecao_aleatoria_com_reposicao,\n",
        "                             realizar_crossover = crossover_1_ponto_corte,\n",
        "                             realizar_mutacao = mutacao_aleatoria,\n",
        "                             selecionar_sobreviventes = elitismo)"
      ],
      "metadata": {
        "id": "Uj-nUYc_Kej-"
      },
      "execution_count": null,
      "outputs": []
    },
    {
      "cell_type": "code",
      "source": [
        "print('== EXPERIMENTO 3 ==')\n",
        "MAX_GERACOES = 2000\n",
        "TAXA_MUTACAO = 0.1\n",
        "\n",
        "solucao = algoritmo_genetico(tam_populacao = TAM_POPULACAO,\n",
        "                             tam_cromossomo = TAM_CROMOSSOMO,\n",
        "                             max_geracoes = MAX_GERACOES,\n",
        "                             taxa_mutacao = TAXA_MUTACAO,\n",
        "                             fitness = fitness_maximizar_1,\n",
        "                             selecionar_pais = selecao_aleatoria_com_reposicao,\n",
        "                             realizar_crossover = crossover_1_ponto_corte,\n",
        "                             realizar_mutacao = mutacao_aleatoria,\n",
        "                             selecionar_sobreviventes = elitismo)"
      ],
      "metadata": {
        "id": "BL45lq84KuO1"
      },
      "execution_count": null,
      "outputs": []
    }
  ]
}